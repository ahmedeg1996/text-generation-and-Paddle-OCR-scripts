{
 "cells": [
  {
   "cell_type": "code",
   "execution_count": 2,
   "metadata": {},
   "outputs": [
    {
     "ename": "UnicodeDecodeError",
     "evalue": "'utf-8' codec can't decode byte 0xff in position 0: invalid start byte",
     "output_type": "error",
     "traceback": [
      "\u001b[1;31m---------------------------------------------------------------------------\u001b[0m",
      "\u001b[1;31mUnicodeDecodeError\u001b[0m                        Traceback (most recent call last)",
      "Cell \u001b[1;32mIn[2], line 16\u001b[0m\n\u001b[0;32m     14\u001b[0m \u001b[39m# Open the text file and loop through each line\u001b[39;00m\n\u001b[0;32m     15\u001b[0m \u001b[39mwith\u001b[39;00m \u001b[39mopen\u001b[39m(\u001b[39mr\u001b[39m\u001b[39m'\u001b[39m\u001b[39mC:\u001b[39m\u001b[39m\\\u001b[39m\u001b[39mUsers\u001b[39m\u001b[39m\\\u001b[39m\u001b[39mv23ASayed2\u001b[39m\u001b[39m\\\u001b[39m\u001b[39mDesktop\u001b[39m\u001b[39m\\\u001b[39m\u001b[39mTextRecognitionDataGenerator\u001b[39m\u001b[39m\\\u001b[39m\u001b[39mtrdg\u001b[39m\u001b[39m\\\u001b[39m\u001b[39mimages\u001b[39m\u001b[39m\\\u001b[39m\u001b[39mnumbers_background.jpg\u001b[39m\u001b[39m'\u001b[39m, \u001b[39m'\u001b[39m\u001b[39mr\u001b[39m\u001b[39m'\u001b[39m, encoding\u001b[39m=\u001b[39m\u001b[39m'\u001b[39m\u001b[39mutf-8\u001b[39m\u001b[39m'\u001b[39m) \u001b[39mas\u001b[39;00m f:\n\u001b[1;32m---> 16\u001b[0m     \u001b[39mfor\u001b[39;00m i, line \u001b[39min\u001b[39;00m \u001b[39menumerate\u001b[39m(f):\n\u001b[0;32m     17\u001b[0m         \u001b[39m# Strip any leading/trailing whitespace from the line\u001b[39;00m\n\u001b[0;32m     18\u001b[0m         line \u001b[39m=\u001b[39m line\u001b[39m.\u001b[39mstrip()\n\u001b[0;32m     20\u001b[0m         \u001b[39m# Split the line into individual numbers\u001b[39;00m\n",
      "File \u001b[1;32m<frozen codecs>:322\u001b[0m, in \u001b[0;36mdecode\u001b[1;34m(self, input, final)\u001b[0m\n",
      "\u001b[1;31mUnicodeDecodeError\u001b[0m: 'utf-8' codec can't decode byte 0xff in position 0: invalid start byte"
     ]
    }
   ],
   "source": [
    "import os\n",
    "from PIL import Image, ImageDraw, ImageFont\n",
    "\n",
    "# Load the background image\n",
    "background = Image.open('background.jpg')\n",
    "\n",
    "# Load the font\n",
    "font = ImageFont.truetype('arial.ttf', 24)\n",
    "\n",
    "# Create the output folder if it doesn't exist\n",
    "if not os.path.exists('output1'):\n",
    "    os.makedirs('output1')\n",
    "\n",
    "# Try different encodings until the file can be read without errors\n",
    "with open('numbers.txt', 'rb') as f:\n",
    "    for encoding in ['utf-8', 'utf-16', 'windows-1256']:\n",
    "        try:\n",
    "            lines = f.read().decode(encoding).splitlines()\n",
    "            break\n",
    "        except UnicodeDecodeError:\n",
    "            pass\n",
    "    else:\n",
    "        raise ValueError('Unable to decode the file')\n",
    "\n",
    "# Open the text file and loop through each line\n",
    "for i, line in enumerate(lines):\n",
    "    # Strip any leading/trailing whitespace from the line\n",
    "    line = line.strip()\n",
    "\n",
    "    # Split the line into individual numbers\n",
    "    numbers = line.split()\n",
    "\n",
    "    # Create a new image by copying the background\n",
    "    image = background.copy()\n",
    "\n",
    "    # Create a drawing context\n",
    "    draw = ImageDraw.Draw(image)\n",
    "\n",
    "    # Get the size of the image\n",
    "    width, height = image.size\n",
    "\n",
    "    # Calculate the position to draw the numbers\n",
    "    x = width // 2\n",
    "    y = height // 2\n",
    "\n",
    "    # Draw the numbers on the image\n",
    "    for number in numbers:\n",
    "        draw.text((x, y), number, font=font, fill=(255, 255, 255))\n",
    "        # Increment x by the width of the text\n",
    "        x += font.getsize(number)[0]\n",
    "\n",
    "    # Save the new image with the numbers added\n",
    "    filename = f'output1/output_{i}.jpg'\n",
    "    image.save(filename)\n",
    "\n"
   ]
  }
 ],
 "metadata": {
  "kernelspec": {
   "display_name": "ocr",
   "language": "python",
   "name": "python3"
  },
  "language_info": {
   "codemirror_mode": {
    "name": "ipython",
    "version": 3
   },
   "file_extension": ".py",
   "mimetype": "text/x-python",
   "name": "python",
   "nbconvert_exporter": "python",
   "pygments_lexer": "ipython3",
   "version": "3.11.0"
  },
  "orig_nbformat": 4,
  "vscode": {
   "interpreter": {
    "hash": "96e50074f49c2be8edc03f948bb9e5e0a1b2b57ba61f1cd7541e5023ff37ceff"
   }
  }
 },
 "nbformat": 4,
 "nbformat_minor": 2
}
